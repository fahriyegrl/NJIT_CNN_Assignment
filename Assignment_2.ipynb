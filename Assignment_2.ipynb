{
  "nbformat": 4,
  "nbformat_minor": 0,
  "metadata": {
    "kernelspec": {
      "display_name": "Python 3",
      "name": "python3"
    },
    "language_info": {
      "codemirror_mode": {
        "name": "ipython",
        "version": 3
      },
      "file_extension": ".py",
      "mimetype": "text/x-python",
      "name": "python",
      "nbconvert_exporter": "python",
      "pygments_lexer": "ipython3",
      "version": "3.7.4"
    },
    "colab": {
      "provenance": [],
      "gpuType": "T4",
      "include_colab_link": true
    },
    "accelerator": "GPU"
  },
  "cells": [
    {
      "cell_type": "markdown",
      "metadata": {
        "id": "view-in-github",
        "colab_type": "text"
      },
      "source": [
        "<a href=\"https://colab.research.google.com/github/fahriyegrl/NJIT_CNN_Assignment/blob/main/Assignment_2.ipynb\" target=\"_parent\"><img src=\"https://colab.research.google.com/assets/colab-badge.svg\" alt=\"Open In Colab\"/></a>"
      ]
    },
    {
      "cell_type": "markdown",
      "metadata": {
        "id": "Tajfsk_7JY3E"
      },
      "source": [
        "**Note to grader:** Each question consists of parts, e.g. Q1(i), Q1(ii), etc. Each part must be first graded  on a 0-4 scale, following the standard NJIT convention (A:4, B+: 3.5, B:3, C+: 2.5, C: 2, D:1, F:0). However, any given item may be worth 4 or 8 points; if an item is worth 8 points, you need to accordingly scale the 0-4 grade.\n",
        "\n",
        "\n",
        "The total score must be re-scaled to 100. That should apply to all future assignments so that Canvas assigns the same weight on all assignments.\n",
        "\n"
      ]
    },
    {
      "cell_type": "markdown",
      "metadata": {
        "id": "SArgW_Vq-uTh"
      },
      "source": [
        "# <font color = 'blue'>  **Assignment 2**\n",
        "\n"
      ]
    },
    {
      "cell_type": "markdown",
      "source": [
        "### Preparation Steps\n"
      ],
      "metadata": {
        "id": "fKHAiVXNz-2i"
      }
    },
    {
      "cell_type": "markdown",
      "source": [
        "\n",
        "\n",
        "We will work with this [mystery dataset](https://drive.google.com/open?id=1WLnWBThCYZ25pReI5DCwk2bgDaCrJxI_&authuser=ikoutis%40njit.edu&usp=drive_fs) that you can download and place to your google drive. You can then put it somewhere on your google drive and bring it into your Colab by following the steps in the following cell.\n",
        "\n"
      ],
      "metadata": {
        "id": "5xtT_YAhmmXs"
      }
    },
    {
      "cell_type": "code",
      "source": [
        "from google.colab import drive\n",
        "drive.mount('/content/gdrive', force_remount=True)\n",
        "\n",
        "import scipy.io\n",
        "\n",
        "#mat = scipy.io.loadmat('/content/gdrive/Shareddrives/graph-modification/data/mysteryDataset.mat')\n",
        "\n",
        "#mat = scipy.io.loadmat('/mysteryDataset.mat')"
      ],
      "metadata": {
        "id": "5AMaVk7jmn_D",
        "colab": {
          "base_uri": "https://localhost:8080/"
        },
        "outputId": "a22ee401-7336-4ffc-8edb-c20fab500b31"
      },
      "execution_count": 30,
      "outputs": [
        {
          "output_type": "stream",
          "name": "stdout",
          "text": [
            "Mounted at /content/gdrive\n"
          ]
        }
      ]
    },
    {
      "cell_type": "markdown",
      "source": [
        "The file contains\n",
        "\n",
        "* Two matrices $X$ and $X_1$ of numerical features. These datasets have the same dimensions (169343x80) but they are different.\n",
        "* An array $y$ of labels, ranging from 0-39.\n",
        "* The indices $otrain$ of a training set. These indices tell you what rows of the arrays $X,X_1,y$ correspond to the training points. You can use these to make two different training sets $(X[train], y[train])$ and $(X_1[train], y[train])$\n",
        "* Similarly, it contains the indexes for a validation and a test set, $ovalid$ and $otest$ respectively.\n",
        "\n",
        "The following cell shows how to access these arrays and assign them to local numpy objects."
      ],
      "metadata": {
        "id": "AsLbaghZrO-L"
      }
    },
    {
      "cell_type": "code",
      "source": [
        "#mat = scipy.io.loadmat('mysteryDataset.mat')\n",
        "\n",
        "file_path = \"/content/gdrive/My Drive/mysteryDataset .mat\"\n",
        "mat = scipy.io.loadmat(file_path)"
      ],
      "metadata": {
        "id": "HQ0Oyva2F3fF"
      },
      "execution_count": 31,
      "outputs": []
    },
    {
      "cell_type": "code",
      "source": [
        "print(mat.keys())"
      ],
      "metadata": {
        "colab": {
          "base_uri": "https://localhost:8080/"
        },
        "id": "xFzCOuH97O0G",
        "outputId": "864dcfd2-b05e-4d16-fb24-d91b84315c68"
      },
      "execution_count": 32,
      "outputs": [
        {
          "output_type": "stream",
          "name": "stdout",
          "text": [
            "dict_keys(['__header__', '__version__', '__globals__', 'X', 'X1', 'otest', 'otrain', 'ovalid', 'y'])\n"
          ]
        }
      ]
    },
    {
      "cell_type": "code",
      "source": [
        "data = mat['X']\n",
        "print(type(data))\n",
        "print(data.shape)\n",
        "print(data)"
      ],
      "metadata": {
        "colab": {
          "base_uri": "https://localhost:8080/"
        },
        "id": "slka77ZW7MEV",
        "outputId": "405a3de1-464f-4001-d7f7-6c702ff44656"
      },
      "execution_count": 34,
      "outputs": [
        {
          "output_type": "stream",
          "name": "stdout",
          "text": [
            "<class 'numpy.ndarray'>\n",
            "(169343, 80)\n",
            "[[-1.17172086e-05 -7.25280867e-06  5.12661752e-06 ...  8.41897191e-05\n",
            "   1.42267498e-05 -1.79510200e-05]\n",
            " [-1.11324893e-05 -4.08813759e-06  2.02800221e-06 ... -8.28714325e-05\n",
            "  -1.61708374e-05  1.97942889e-05]\n",
            " [-1.15048231e-05 -5.82459697e-06  4.93125101e-06 ...  2.49504038e-05\n",
            "   4.74029309e-06 -8.01156192e-06]\n",
            " ...\n",
            " [-1.14174907e-05 -6.78472981e-06  5.12786880e-06 ...  8.45869596e-05\n",
            "   1.28441318e-05 -5.47867305e-06]\n",
            " [-1.17641029e-05 -7.40347110e-06  5.22326732e-06 ...  9.09224602e-05\n",
            "   1.51560773e-05 -1.93930956e-05]\n",
            " [-1.16459906e-05 -4.51781688e-06  4.84513313e-06 ... -6.45753345e-06\n",
            "  -3.49332467e-06 -1.98055043e-05]]\n"
          ]
        }
      ]
    },
    {
      "cell_type": "code",
      "source": [
        "# this is an example\n",
        "#ft = mat.get('X')\n"
      ],
      "metadata": {
        "id": "d0jvswNpwsOm"
      },
      "execution_count": 10,
      "outputs": []
    },
    {
      "cell_type": "markdown",
      "source": [
        "## <font color = 'blue'> Question 1. Import the dataset and conver to torch tensors </font>\n",
        "\n",
        "Your task for this question is to adapt the above preparation steps, import all mentioned variables into numpy arrays, and then transform them to PyTorch tensors.\n"
      ],
      "metadata": {
        "id": "ALSnNeSw0JoQ"
      }
    },
    {
      "cell_type": "code",
      "source": [
        "## your answer goes here\n",
        "\n",
        "## Getting the data\n",
        "import torch\n",
        "import numpy as np\n",
        "\n",
        "X = mat['X']\n",
        "X1 = mat['X1']\n",
        "y = mat['y'].flatten()\n",
        "print(X.shape)\n",
        "print(X1.shape)\n",
        "print(y.shape)"
      ],
      "metadata": {
        "id": "C20aEPMG0z2W",
        "colab": {
          "base_uri": "https://localhost:8080/"
        },
        "outputId": "0c15b21f-3f5a-4baf-bf0b-f48733792ead"
      },
      "execution_count": 35,
      "outputs": [
        {
          "output_type": "stream",
          "name": "stdout",
          "text": [
            "(169343, 80)\n",
            "(169343, 80)\n",
            "(169343,)\n"
          ]
        }
      ]
    },
    {
      "cell_type": "code",
      "source": [
        "y.max(), y.min(),y"
      ],
      "metadata": {
        "colab": {
          "base_uri": "https://localhost:8080/"
        },
        "id": "fEigEKzLb0aL",
        "outputId": "8c83b485-03cc-40c6-b58e-4ffbaa09f0f0"
      },
      "execution_count": 37,
      "outputs": [
        {
          "output_type": "execute_result",
          "data": {
            "text/plain": [
              "(39, 0, array([ 4,  5, 28, ..., 10,  4,  1]))"
            ]
          },
          "metadata": {},
          "execution_count": 37
        }
      ]
    },
    {
      "cell_type": "code",
      "source": [
        "otrain = mat['otrain'].flatten() # Getting training indices\n",
        "ovalid = mat['ovalid'].flatten() # Validation indices\n",
        "otest = mat['otest'].flatten()    # Test indices"
      ],
      "metadata": {
        "id": "bhkRQdaE8qpy"
      },
      "execution_count": 38,
      "outputs": []
    },
    {
      "cell_type": "code",
      "source": [
        "print(otrain.shape)\n",
        "print(ovalid.shape)\n",
        "print(otest.shape)"
      ],
      "metadata": {
        "colab": {
          "base_uri": "https://localhost:8080/"
        },
        "id": "FECrBxn481z5",
        "outputId": "ce0533c1-4632-4a87-c821-538d0856c87a"
      },
      "execution_count": 13,
      "outputs": [
        {
          "output_type": "stream",
          "name": "stdout",
          "text": [
            "(90941,)\n",
            "(29799,)\n",
            "(48603,)\n"
          ]
        }
      ]
    },
    {
      "cell_type": "code",
      "source": [
        "### Converting to PyTorch tensors\n",
        "\n",
        "X_tensor = torch.tensor(X, dtype=torch.float32)\n",
        "X1_tensor = torch.tensor(X1, dtype=torch.float32)\n",
        "\n",
        "\n",
        "y_tensor = torch.tensor(y, dtype=torch.long)\n",
        "\n",
        "\n",
        "otrain_tensor = torch.tensor(otrain, dtype=torch.long)\n",
        "ovalid_tensor = torch.tensor(ovalid, dtype=torch.long)\n",
        "otest_tensor = torch.tensor(otest, dtype=torch.long)\n"
      ],
      "metadata": {
        "id": "IZjEA-FX8_0z"
      },
      "execution_count": 39,
      "outputs": []
    },
    {
      "cell_type": "code",
      "source": [
        "### Getting the train, validation, test datasets\n",
        "\n",
        "# Create training sets\n",
        "X_train = X_tensor[otrain_tensor]\n",
        "X1_train = X1_tensor[otrain_tensor]\n",
        "y_train = y_tensor[otrain_tensor]\n",
        "\n",
        "# Create validation sets\n",
        "X_valid = X_tensor[ovalid_tensor]\n",
        "X1_valid = X1_tensor[ovalid_tensor]\n",
        "y_valid = y_tensor[ovalid_tensor]\n",
        "\n",
        "# Create test sets\n",
        "X_test = X_tensor[otest_tensor]\n",
        "X1_test = X1_tensor[otest_tensor]\n",
        "y_test = y_tensor[otest_tensor]\n"
      ],
      "metadata": {
        "id": "mxhz34869FFJ"
      },
      "execution_count": 40,
      "outputs": []
    },
    {
      "cell_type": "code",
      "source": [
        "print(\"X_train shape:\", X_train.shape)\n",
        "print(\"X1_train shape:\", X1_train.shape)\n",
        "print(\"y_train shape:\", y_train.shape)\n",
        "print(\"***************************************\")\n",
        "print(\"X_valid shape:\", X_valid.shape)\n",
        "print(\"X1_valid shape:\", X1_valid.shape)\n",
        "print(\"y_valid shape:\", y_valid.shape)\n",
        "print(\"***************************************\")\n",
        "print(\"X_test shape:\", X_test.shape)\n",
        "print(\"X1_test shape:\", X1_test.shape)\n",
        "print(\"y_test shape:\", y_test.shape)\n"
      ],
      "metadata": {
        "colab": {
          "base_uri": "https://localhost:8080/"
        },
        "id": "YFvreG3Y9r8S",
        "outputId": "08d3cc48-1584-4ce7-de89-954181b77c08"
      },
      "execution_count": 42,
      "outputs": [
        {
          "output_type": "stream",
          "name": "stdout",
          "text": [
            "X_train shape: torch.Size([90941, 80])\n",
            "X1_train shape: torch.Size([90941, 80])\n",
            "y_train shape: torch.Size([90941])\n",
            "***************************************\n",
            "X_valid shape: torch.Size([29799, 80])\n",
            "X1_valid shape: torch.Size([29799, 80])\n",
            "y_valid shape: torch.Size([29799])\n",
            "***************************************\n",
            "X_test shape: torch.Size([48603, 80])\n",
            "X1_test shape: torch.Size([48603, 80])\n",
            "y_test shape: torch.Size([48603])\n"
          ]
        }
      ]
    },
    {
      "cell_type": "code",
      "metadata": {
        "id": "sBjMZF1wGaUp"
      },
      "source": [
        "# for grader use only\n",
        "\n",
        "# insert grade here  (out of 4)\n",
        "\n",
        "# G[1] =\n",
        "#\n",
        "# please justify point subtractions when needed"
      ],
      "execution_count": 17,
      "outputs": []
    },
    {
      "cell_type": "markdown",
      "source": [
        "## <font color = 'blue'> Question 2. Write a functioning classifier in PyTorch </font>\n",
        "\n",
        "Write code that defines a classification model for the above dataset, and all other functions that are needed for its training. Apply your model on the two datsets $X,X_1$ and report the accuracy. The classifier should operate on the GPU.\n",
        "\n",
        "**Hint:** Re-use code we discussed for the Softmax Regression module."
      ],
      "metadata": {
        "id": "s7I1lmGM0skC"
      }
    },
    {
      "cell_type": "code",
      "source": [
        "## your answer goes here\n",
        "\n",
        "import torch\n",
        "import torch.nn as nn\n",
        "import torch.optim as optim\n",
        "from torch.utils.data import DataLoader, TensorDataset\n",
        "\n",
        "device = torch.device(\"cuda\" if torch.cuda.is_available() else \"cpu\")\n",
        "print(f\"Using device: {device}\")\n",
        "\n",
        "# I got the Softmax Regression module in the Course Whiteboard, no update yet for the Questio 2.\n",
        "## The model will be updated in the Question 3 according the data we are using and the question we have which is classifier.\n",
        "### I only updated the input/output size to get model run altgouth we have very low accoury.\n",
        "class SoftMaxRegression(nn.Module):\n",
        "    def __init__(self):\n",
        "        super().__init__()\n",
        "\n",
        "        self.flatten = nn.Flatten()\n",
        "        self.linear = nn.Linear(80, 40) ### I adjustd the input/outpus size based on the data\n",
        "\n",
        "    def forward(self, x):\n",
        "\n",
        "        y = self.flatten(x)\n",
        "        y = self.linear(y)\n",
        "        return y\n",
        "\n"
      ],
      "metadata": {
        "id": "na0el-GE1qtY",
        "colab": {
          "base_uri": "https://localhost:8080/"
        },
        "outputId": "44e9e2c4-da8b-4fb3-c7de-adfa758840c3"
      },
      "execution_count": 75,
      "outputs": [
        {
          "output_type": "stream",
          "name": "stdout",
          "text": [
            "Using device: cuda\n"
          ]
        }
      ]
    },
    {
      "cell_type": "code",
      "source": [
        "### A function to train the model above.\n",
        "\n",
        "def train_model(model, train_loader, valid_loader, num_epochs=10, learning_rate=0.01):\n",
        "    criterion = nn.CrossEntropyLoss()\n",
        "    optimizer = optim.SGD(model.parameters(), lr=learning_rate)\n",
        "\n",
        "    model.to(device)\n",
        "\n",
        "    for epoch in range(num_epochs):\n",
        "        model.train()\n",
        "        total_loss = 0\n",
        "        correct = 0\n",
        "        total = 0\n",
        "\n",
        "        for x, y in train_loader:\n",
        "            x, y = x.to(device), y.to(device)\n",
        "\n",
        "            optimizer.zero_grad()\n",
        "            outputs = model(x)\n",
        "            loss = criterion(outputs, y)\n",
        "            loss.backward()\n",
        "            optimizer.step()\n",
        "\n",
        "            total_loss += loss.item()\n",
        "            _, predicted = outputs.max(1)\n",
        "            correct += (predicted == y).sum().item()\n",
        "            total += y.size(0)\n",
        "\n",
        "        train_acc = correct / total\n",
        "        print(f\"Epoch [{epoch+1}/{num_epochs}], Loss: {total_loss:.4f}, Train Acc: {train_acc:.4f}\")\n",
        "\n",
        "    # Evaluate on validation set\n",
        "    model.eval()\n",
        "    correct = 0\n",
        "    total = 0\n",
        "    with torch.no_grad():\n",
        "        for x, y in valid_loader:\n",
        "            x, y = x.to(device), y.to(device)\n",
        "            outputs = model(x)\n",
        "            _, predicted = outputs.max(1)\n",
        "            correct += (predicted == y).sum().item()\n",
        "            total += y.size(0)\n",
        "\n",
        "    valid_acc = correct / total\n",
        "    print(f\"Validation Accuracy: {valid_acc:.4f}\")\n",
        "    return valid_acc"
      ],
      "metadata": {
        "id": "q6tDuo_uUoTc"
      },
      "execution_count": 76,
      "outputs": []
    },
    {
      "cell_type": "code",
      "source": [
        "### getting the datasets\n",
        "\n",
        "batch_size = 256\n",
        "\n",
        "train_dataset_X = TensorDataset(X_train, y_train)\n",
        "valid_dataset_X = TensorDataset(X_valid, y_valid)\n",
        "test_dataset_X = TensorDataset(X_test, y_test)\n",
        "\n",
        "train_dataset_X1 = TensorDataset(X1_train, y_train)\n",
        "valid_dataset_X1 = TensorDataset(X1_valid, y_valid)\n",
        "test_dataset_X1 = TensorDataset(X1_test, y_test)\n",
        "\n",
        "train_loader_X = DataLoader(train_dataset_X, batch_size=batch_size, shuffle=True)\n",
        "valid_loader_X = DataLoader(valid_dataset_X, batch_size=batch_size, shuffle=False)\n",
        "test_loader_X = DataLoader(test_dataset_X, batch_size=batch_size, shuffle=False)\n",
        "\n",
        "train_loader_X1 = DataLoader(train_dataset_X1, batch_size=batch_size, shuffle=True)\n",
        "valid_loader_X1 = DataLoader(valid_dataset_X1, batch_size=batch_size, shuffle=False)\n",
        "test_loader_X1 = DataLoader(test_dataset_X1, batch_size=batch_size, shuffle=False)\n"
      ],
      "metadata": {
        "id": "HTu--VMpVLO5"
      },
      "execution_count": 77,
      "outputs": []
    },
    {
      "cell_type": "code",
      "source": [
        "### the model on the two datsets  X,X1  and report the accuracy\n",
        "\n",
        "print(\"\\nTraining model on X dataset:\")\n",
        "model= SoftMaxRegression()\n",
        "train_model(model, train_loader_X, valid_loader_X)\n",
        "\n",
        "print(\"\\nTraining model on X1 dataset:\")\n",
        "train_model(model, train_loader_X1, valid_loader_X1)\n",
        "\n"
      ],
      "metadata": {
        "colab": {
          "base_uri": "https://localhost:8080/"
        },
        "id": "SkEoDW8tV-Cn",
        "outputId": "21802ce0-bd53-402c-bef1-737a888d8312"
      },
      "execution_count": 78,
      "outputs": [
        {
          "output_type": "stream",
          "name": "stdout",
          "text": [
            "\n",
            "Training model on X dataset:\n",
            "Epoch [1/10], Loss: 1285.1848, Train Acc: 0.1791\n",
            "Epoch [2/10], Loss: 1239.4362, Train Acc: 0.1791\n",
            "Epoch [3/10], Loss: 1205.1296, Train Acc: 0.1791\n",
            "Epoch [4/10], Loss: 1180.5086, Train Acc: 0.1791\n",
            "Epoch [5/10], Loss: 1163.6420, Train Acc: 0.1791\n",
            "Epoch [6/10], Loss: 1151.7104, Train Acc: 0.1791\n",
            "Epoch [7/10], Loss: 1142.7014, Train Acc: 0.1791\n",
            "Epoch [8/10], Loss: 1136.0542, Train Acc: 0.1791\n",
            "Epoch [9/10], Loss: 1130.7603, Train Acc: 0.1791\n",
            "Epoch [10/10], Loss: 1126.4493, Train Acc: 0.1791\n",
            "Validation Accuracy: 0.0763\n",
            "\n",
            "Training model on X1 dataset:\n",
            "Epoch [1/10], Loss: 1116.5751, Train Acc: 0.1793\n",
            "Epoch [2/10], Loss: 1097.8310, Train Acc: 0.1809\n",
            "Epoch [3/10], Loss: 1083.2890, Train Acc: 0.1876\n",
            "Epoch [4/10], Loss: 1070.9755, Train Acc: 0.2020\n",
            "Epoch [5/10], Loss: 1059.9584, Train Acc: 0.2174\n",
            "Epoch [6/10], Loss: 1050.1751, Train Acc: 0.2292\n",
            "Epoch [7/10], Loss: 1041.3010, Train Acc: 0.2381\n",
            "Epoch [8/10], Loss: 1032.9790, Train Acc: 0.2464\n",
            "Epoch [9/10], Loss: 1025.6618, Train Acc: 0.2504\n",
            "Epoch [10/10], Loss: 1018.4070, Train Acc: 0.2541\n",
            "Validation Accuracy: 0.2476\n"
          ]
        },
        {
          "output_type": "execute_result",
          "data": {
            "text/plain": [
              "0.24759220108057317"
            ]
          },
          "metadata": {},
          "execution_count": 78
        }
      ]
    },
    {
      "cell_type": "code",
      "source": [
        "## We got very low accuracy with the SoftMaxRegression model that comes from the Canvas.\n",
        "#Becasue a regression model is a basic linear classifier with a single layer neural network.\n",
        "# Without a activation function as Relu, the model only work well on linear boundaries.\n",
        ""
      ],
      "metadata": {
        "id": "t7zan6UnhFyg"
      },
      "execution_count": 79,
      "outputs": []
    },
    {
      "cell_type": "code",
      "metadata": {
        "id": "jlICv7kW1qte"
      },
      "source": [
        "# for grader use only\n",
        "\n",
        "# insert grade here  (out of 8)\n",
        "\n",
        "# G[2] =\n",
        "#\n",
        "# please justify point subtractions when needed"
      ],
      "execution_count": 22,
      "outputs": []
    },
    {
      "cell_type": "markdown",
      "source": [
        "## <font color = 'blue'> Question 3. Maximize the accuracy on the two datasets </font>\n",
        "\n",
        "Augment your classifier from Question-2 with any number and type of layers you want, with the goal to maximize the **validation** accuracy you achieve on the two datasets. Feel free to use any stopping criterion you want for the training process. The networks for $X$ and $X_1$ do not have be of the same architecture.\n",
        "\n",
        "Show your code, and add a text cell summarizing your idea and findings. Finally apply your models to the **test** set, and report the accuracy. Feel free to discuss your validation accuracy on Canvas. Also please avoid looking at the test set, until the very end.\n",
        "\n",
        "**Rubric**: All complete answers get 8 points, and the **top** test accuracy reported gets an extra 10\\% in the final quiz."
      ],
      "metadata": {
        "id": "gDmA1ZZL152G"
      }
    },
    {
      "cell_type": "code",
      "source": [
        "## your answer goes here\n",
        "import torch\n",
        "import torch.nn as nn\n",
        "import torch.optim as optim\n",
        "from torch.utils.data import DataLoader, TensorDataset\n",
        "\n",
        "class Classifier(nn.Module):\n",
        "    def __init__(self):\n",
        "        super().__init__()\n",
        "        self.model = nn.Sequential(\n",
        "            nn.Linear(80, 512),\n",
        "            nn.ReLU(),\n",
        "            nn.BatchNorm1d(512),\n",
        "            nn.Dropout(0.3),\n",
        "\n",
        "            nn.Linear(512, 256),\n",
        "            nn.ReLU(),\n",
        "            nn.BatchNorm1d(256),\n",
        "            nn.Dropout(0.3),\n",
        "\n",
        "            nn.Linear(256, 40)\n",
        "        )\n",
        "\n",
        "    def forward(self, x):\n",
        "        return self.model(x)\n",
        "\n",
        "model_X_updated = Classifier().to(device)\n"
      ],
      "metadata": {
        "id": "ySrVeueW31b_"
      },
      "execution_count": 82,
      "outputs": []
    },
    {
      "cell_type": "code",
      "source": [
        "def train_model(model, train_loader, valid_loader, num_epochs=100, patience=5):\n",
        "    device = torch.device(\"cuda\" if torch.cuda.is_available() else \"cpu\")\n",
        "    model.to(device)\n",
        "\n",
        "    criterion = nn.CrossEntropyLoss()\n",
        "    optimizer = optim.Adam(model.parameters(), lr=0.001)\n",
        "\n",
        "    best_val_acc = 0\n",
        "    early_stop_counter = 0\n",
        "\n",
        "\n",
        "    for epoch in range(num_epochs):\n",
        "        model.train()\n",
        "        train_loss, correct, total = 0, 0, 0\n",
        "\n",
        "        for inputs, labels in train_loader:\n",
        "            inputs, labels = inputs.to(device), labels.to(device)\n",
        "            optimizer.zero_grad()\n",
        "\n",
        "            outputs = model(inputs)\n",
        "            loss = criterion(outputs, labels)\n",
        "            loss.backward()\n",
        "            optimizer.step()\n",
        "\n",
        "            train_loss += loss.item()\n",
        "            _, predicted = outputs.max(1)\n",
        "            correct += (predicted == labels).sum().item()\n",
        "            total += labels.size(0)\n",
        "\n",
        "        train_acc = correct / total\n",
        "\n",
        "        # Validation\n",
        "        model.eval()\n",
        "        correct, total = 0, 0\n",
        "        with torch.no_grad():\n",
        "            for inputs, labels in valid_loader:\n",
        "                inputs, labels = inputs.cuda(), labels.cuda()\n",
        "                outputs = model(inputs)\n",
        "                _, predicted = outputs.max(1)\n",
        "                correct += (predicted == labels).sum().item()\n",
        "                total += labels.size(0)\n",
        "\n",
        "        val_acc = correct / total\n",
        "        print(f\"Epoch [{epoch+1}/{num_epochs}], Train Acc: {train_acc:.4f}, Val Acc: {val_acc:.4f}\")\n",
        "\n",
        "        # Early Stopping\n",
        "        if val_acc > best_val_acc:\n",
        "            best_val_acc = val_acc\n",
        "            early_stop_counter = 0\n",
        "        else:\n",
        "            early_stop_counter += 1\n",
        "            if early_stop_counter >= patience:\n",
        "                print(\"Early stopping triggered.\")\n",
        "                break\n",
        "\n",
        "    print(f\"Best Validation Accuracy: {best_val_acc:.4f}\")\n"
      ],
      "metadata": {
        "id": "PGEmoGBWZTVA"
      },
      "execution_count": 83,
      "outputs": []
    },
    {
      "cell_type": "code",
      "source": [
        "# Train models\n",
        "\n",
        "## acc_X = train_model(model_X, train_loader_X, valid_loader_X)\n",
        "print(\"Training model on X dataset:\")\n",
        "train_model(model_X_updated, train_loader_X, valid_loader_X)"
      ],
      "metadata": {
        "colab": {
          "base_uri": "https://localhost:8080/"
        },
        "id": "aUpCs15VZVYG",
        "outputId": "94c02037-7328-4431-ae34-4d3362b884e6"
      },
      "execution_count": 84,
      "outputs": [
        {
          "output_type": "stream",
          "name": "stdout",
          "text": [
            "Training model on X dataset:\n",
            "Epoch [1/100], Train Acc: 0.4371, Val Acc: 0.0840\n",
            "Epoch [2/100], Train Acc: 0.4834, Val Acc: 0.0710\n",
            "Epoch [3/100], Train Acc: 0.4948, Val Acc: 0.1176\n",
            "Epoch [4/100], Train Acc: 0.5007, Val Acc: 0.2461\n",
            "Epoch [5/100], Train Acc: 0.5069, Val Acc: 0.1102\n",
            "Epoch [6/100], Train Acc: 0.5088, Val Acc: 0.1001\n",
            "Epoch [7/100], Train Acc: 0.5143, Val Acc: 0.1628\n",
            "Epoch [8/100], Train Acc: 0.5142, Val Acc: 0.0230\n",
            "Epoch [9/100], Train Acc: 0.5184, Val Acc: 0.0954\n",
            "Early stopping triggered.\n",
            "Best Validation Accuracy: 0.2461\n"
          ]
        }
      ]
    },
    {
      "cell_type": "code",
      "source": [
        "train_model(model_X_updated, train_loader_X1, valid_loader_X1)\n"
      ],
      "metadata": {
        "colab": {
          "base_uri": "https://localhost:8080/"
        },
        "id": "rIj499RmjzDb",
        "outputId": "3d8dbe8d-d7e7-4581-b69c-8f598d690f54"
      },
      "execution_count": 85,
      "outputs": [
        {
          "output_type": "stream",
          "name": "stdout",
          "text": [
            "Epoch [1/100], Train Acc: 0.4356, Val Acc: 0.5143\n",
            "Epoch [2/100], Train Acc: 0.4942, Val Acc: 0.5223\n",
            "Epoch [3/100], Train Acc: 0.5076, Val Acc: 0.5314\n",
            "Epoch [4/100], Train Acc: 0.5138, Val Acc: 0.5314\n",
            "Epoch [5/100], Train Acc: 0.5209, Val Acc: 0.5339\n",
            "Epoch [6/100], Train Acc: 0.5258, Val Acc: 0.5365\n",
            "Epoch [7/100], Train Acc: 0.5307, Val Acc: 0.5414\n",
            "Epoch [8/100], Train Acc: 0.5335, Val Acc: 0.5396\n",
            "Epoch [9/100], Train Acc: 0.5361, Val Acc: 0.5410\n",
            "Epoch [10/100], Train Acc: 0.5390, Val Acc: 0.5455\n",
            "Epoch [11/100], Train Acc: 0.5453, Val Acc: 0.5424\n",
            "Epoch [12/100], Train Acc: 0.5457, Val Acc: 0.5473\n",
            "Epoch [13/100], Train Acc: 0.5508, Val Acc: 0.5462\n",
            "Epoch [14/100], Train Acc: 0.5510, Val Acc: 0.5531\n",
            "Epoch [15/100], Train Acc: 0.5553, Val Acc: 0.5496\n",
            "Epoch [16/100], Train Acc: 0.5563, Val Acc: 0.5519\n",
            "Epoch [17/100], Train Acc: 0.5589, Val Acc: 0.5477\n",
            "Epoch [18/100], Train Acc: 0.5617, Val Acc: 0.5486\n",
            "Epoch [19/100], Train Acc: 0.5606, Val Acc: 0.5539\n",
            "Epoch [20/100], Train Acc: 0.5619, Val Acc: 0.5530\n",
            "Epoch [21/100], Train Acc: 0.5653, Val Acc: 0.5527\n",
            "Epoch [22/100], Train Acc: 0.5693, Val Acc: 0.5510\n",
            "Epoch [23/100], Train Acc: 0.5665, Val Acc: 0.5516\n",
            "Epoch [24/100], Train Acc: 0.5700, Val Acc: 0.5510\n",
            "Early stopping triggered.\n",
            "Best Validation Accuracy: 0.5539\n"
          ]
        }
      ]
    },
    {
      "cell_type": "code",
      "source": [
        "# I updated the Softmax Regression(in Question-2) to a neural network with non-linearity.\n",
        "# I added hidden layers with ReLU activation to capture more complex patterns.\n",
        "# I used batch normalization to stabilize learning.\n",
        "# I added dropout to reduce overfitting.\n",
        "# I used Adam optimizer instead of plain SGD for better convergence.\n",
        "# I implemented early stopping."
      ],
      "metadata": {
        "id": "SxtUhYrNmlzW"
      },
      "execution_count": 88,
      "outputs": []
    },
    {
      "cell_type": "code",
      "source": [
        "def test_model(model, test_loader):\n",
        "    model.eval()\n",
        "    correct, total = 0, 0\n",
        "    with torch.no_grad():\n",
        "        for inputs, labels in test_loader:\n",
        "            inputs, labels = inputs.cuda(), labels.cuda()\n",
        "            outputs = model(inputs)\n",
        "            _, predicted = outputs.max(1)\n",
        "            correct += (predicted == labels).sum().item()\n",
        "            total += labels.size(0)\n",
        "\n",
        "\n",
        "\n",
        "    test_acc = correct / total\n",
        "    return test_acc\n",
        "\n",
        "test_dataset_X = TensorDataset(X_test, y_test)\n",
        "test_loader_X = DataLoader(test_dataset_X, batch_size=256, shuffle=False)\n",
        "\n",
        "test_dataset_X1 = TensorDataset(X1_test, y_test)\n",
        "test_loader_X1 = DataLoader(test_dataset_X1, batch_size=256, shuffle=False)\n",
        "\n",
        "test_acc_X = test_model(model_X_updated, test_loader_X)\n",
        "test_acc_X1 = test_model(model_X_updated, test_loader_X1)\n",
        "\n",
        "print(f\"Test Accuracy on X dataset: {test_acc_X:.4f}\")\n",
        "print(f\"Test Accuracy on X1 dataset: {test_acc_X1:.4f}\")\n"
      ],
      "metadata": {
        "colab": {
          "base_uri": "https://localhost:8080/"
        },
        "id": "WD9_CrT5awl0",
        "outputId": "91e976ed-0527-4bb3-ea24-812b3cf65c2d"
      },
      "execution_count": 87,
      "outputs": [
        {
          "output_type": "stream",
          "name": "stdout",
          "text": [
            "Test Accuracy on X dataset: 0.0015\n",
            "Test Accuracy on X1 dataset: 0.5314\n"
          ]
        }
      ]
    },
    {
      "cell_type": "code",
      "metadata": {
        "id": "OcYS1afK31cS"
      },
      "source": [
        "# for grader use only\n",
        "\n",
        "# insert grade here  (out of 8)\n",
        "\n",
        "# G[3] =\n",
        "#\n",
        "# please justify point subtractions when needed"
      ],
      "execution_count": null,
      "outputs": []
    },
    {
      "cell_type": "code",
      "source": [
        "# total score\n",
        "max_score = 20\n",
        "$inal_score = sum(G)*(100/max_score)"
      ],
      "metadata": {
        "id": "EZHVWBIjIuoy"
      },
      "execution_count": null,
      "outputs": []
    }
  ]
}